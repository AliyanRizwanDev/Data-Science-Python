{
 "cells": [
  {
   "cell_type": "code",
   "execution_count": 6,
   "id": "b5557e24",
   "metadata": {},
   "outputs": [
    {
     "name": "stdout",
     "output_type": "stream",
     "text": [
      "LecLec\n",
      "[0, 2, 4, 6, 8, 10]\n"
     ]
    }
   ],
   "source": [
    "\n",
    "'''\n",
    "Numeric (int,float,complexNumber)\n",
    "Dictionary \n",
    "Boolean\n",
    "Set\n",
    "\n",
    "Sequence types\n",
    "String\n",
    "List\n",
    "Tuple\n",
    "\n",
    "'''\n",
    "\n",
    "str1=\"Lecture 3\"\n",
    "str2='week 2'\n",
    "print(str1[0:3]*2)\n",
    "\n",
    "\n",
    "'''\n",
    "Create list of even numbers form 1 to 10\n",
    "'''\n",
    "\n",
    "even=[]\n",
    "for i in range(11):\n",
    "    if(i%2==0):\n",
    "        even.append(i)\n",
    "        \n",
    "\n",
    "even=[]\n",
    "for i in range(0,11,2):\n",
    "    even.append(i)\n",
    "    \n",
    "print(even)\n"
   ]
  },
  {
   "cell_type": "code",
   "execution_count": 7,
   "id": "489444d3",
   "metadata": {},
   "outputs": [
    {
     "name": "stdout",
     "output_type": "stream",
     "text": [
      "[1, 2, 3, 4]\n"
     ]
    }
   ],
   "source": [
    "list1=[1,2,3,4,1,2,3,4]\n",
    "newList=[]\n",
    "\n",
    "for item in list1:\n",
    "    if item not in newList:\n",
    "        newList.append(item)\n",
    "        \n",
    "print(newList)\n"
   ]
  },
  {
   "cell_type": "code",
   "execution_count": 8,
   "id": "19a4b267",
   "metadata": {},
   "outputs": [
    {
     "name": "stdout",
     "output_type": "stream",
     "text": [
      "Monday\n",
      "Tuesday\n",
      "Wednesday\n",
      "Thursday\n",
      "Friday\n",
      "Saturday\n",
      "Sunday\n"
     ]
    }
   ],
   "source": [
    "'''\n",
    "Display days of week through tuple\n",
    "Reverse the tuple\n",
    "'''\n",
    "\n",
    "def displayWeek():\n",
    "    days=('Monday','Tuesday','Wednesday','Thursday','Friday','Saturday','Sunday')\n",
    "    for day in days:\n",
    "        print(day)\n",
    "        \n",
    "        \n",
    "displayWeek()"
   ]
  },
  {
   "cell_type": "code",
   "execution_count": 18,
   "id": "c304a2be",
   "metadata": {},
   "outputs": [
    {
     "name": "stdout",
     "output_type": "stream",
     "text": [
      "('Sunday', 'Saturday', 'Friday', 'Thursday', 'Wednesday', 'Tuesday', 'Monday')\n"
     ]
    }
   ],
   "source": [
    "days=('Monday','Tuesday','Wednesday','Thursday','Friday','Saturday','Sunday')\n",
    "reversedDays=(days[::-1])\n",
    "print(reversedDays)\n"
   ]
  },
  {
   "cell_type": "code",
   "execution_count": 21,
   "id": "273d4822",
   "metadata": {},
   "outputs": [
    {
     "name": "stdout",
     "output_type": "stream",
     "text": [
      "name =  Abubakar  Age =  21\n",
      "name =  Mughees  Age =  21\n",
      "name =  Asad  Age =  23\n"
     ]
    }
   ],
   "source": [
    "\n",
    "info={\n",
    "    'Abubakar':21,\n",
    "    'Mughees':21,\n",
    "    'Asad':23\n",
    "}\n",
    "\n",
    "for std in info:\n",
    "    print('name = ',std,' Age = ',info[std])\n"
   ]
  },
  {
   "cell_type": "code",
   "execution_count": null,
   "id": "f4efe3c1",
   "metadata": {},
   "outputs": [],
   "source": [
    "'''\n",
    "Data Structure    Mutable   Order   Uniqueness\n",
    "List                Yes      Yes       No\n",
    "Tuple               No       Yes       No\n",
    "Set                 Yes      No        Yes\n",
    "Dictionary          Yes      No        Yes(for keys)\n",
    "\n",
    "\n",
    "Lists are good choice for storing ordered data that need to be modified frequently.\n",
    "Tuples are good choice for storing ordered data that does not need to be modified.\n",
    "Set are good choice for storing unique data that need to be modified frequently.\n",
    "Dictionary are good choice for storing data in key value pair.\n",
    "'''"
   ]
  },
  {
   "cell_type": "code",
   "execution_count": 2,
   "id": "66100730",
   "metadata": {},
   "outputs": [
    {
     "name": "stdout",
     "output_type": "stream",
     "text": [
      "Number is even\n"
     ]
    }
   ],
   "source": [
    "'''\n",
    "number is even or not\n",
    "\n",
    "\n",
    "\n",
    "'''\n",
    "\n",
    "\n",
    "number=10\n",
    "\n",
    "if number%2==0:\n",
    "    print(\"Number is even\")\n",
    "\n",
    "else:\n",
    "    print(\"number is not even\")\n"
   ]
  },
  {
   "cell_type": "code",
   "execution_count": 10,
   "id": "81f5cb93",
   "metadata": {},
   "outputs": [
    {
     "name": "stdout",
     "output_type": "stream",
     "text": [
      "Enter numbers: 3\n",
      "Enter numbers: 2\n",
      "Enter numbers: 1\n",
      "3  is greatest\n"
     ]
    }
   ],
   "source": [
    "'''\n",
    "find largest number from 3 numbers\n",
    "'''\n",
    "\n",
    "a=int(input(\"Enter numbers: \"))\n",
    "b=int(input(\"Enter numbers: \"))\n",
    "c=int(input(\"Enter numbers: \"))\n",
    "\n",
    "if (a>b and a>c):\n",
    "    print(a,' is greatest')\n",
    "elif (b>a and b>c):\n",
    "    print(b,' is greatest')\n",
    "else:\n",
    "    print(c,' is greatest')"
   ]
  },
  {
   "cell_type": "code",
   "execution_count": 13,
   "id": "99a22c8c",
   "metadata": {},
   "outputs": [
    {
     "name": "stdout",
     "output_type": "stream",
     "text": [
      "range(0, 10)\n",
      "[0, 1, 2, 3, 4, 5, 6, 7, 8, 9]\n",
      "[5, 10, 15, 20, 25, 30, 35, 40, 45]\n"
     ]
    }
   ],
   "source": [
    "print(range(10))\n",
    "print(list(range(10)))\n",
    "print(list(range(5,50,5)))"
   ]
  },
  {
   "cell_type": "code",
   "execution_count": 17,
   "id": "0681f481",
   "metadata": {},
   "outputs": [
    {
     "name": "stdout",
     "output_type": "stream",
     "text": [
      "14\n",
      "5  x  1  =  5\n",
      "5  x  2  =  10\n",
      "5  x  3  =  15\n",
      "5  x  4  =  20\n",
      "5  x  5  =  25\n",
      "5  x  6  =  30\n",
      "5  x  7  =  35\n",
      "5  x  8  =  40\n",
      "5  x  9  =  45\n",
      "5  x  10  =  50\n"
     ]
    }
   ],
   "source": [
    "l1=[1,2,3]\n",
    "ans=0\n",
    "for i in l1:\n",
    "    ans+=i**2\n",
    "    \n",
    "print(ans)\n",
    "\n",
    "num=5;\n",
    "for i in range(1,11):\n",
    "    print(num,' x ',i ,' = ',num*i)"
   ]
  },
  {
   "cell_type": "code",
   "execution_count": 2,
   "id": "d054bd6d",
   "metadata": {},
   "outputs": [
    {
     "name": "stdout",
     "output_type": "stream",
     "text": [
      "\n",
      "Welcome to Python 3.11's help utility!\n",
      "\n",
      "If this is your first time using Python, you should definitely check out\n",
      "the tutorial on the internet at https://docs.python.org/3.11/tutorial/.\n",
      "\n",
      "Enter the name of any module, keyword, or topic to get help on writing\n",
      "Python programs and using Python modules.  To quit this help utility and\n",
      "return to the interpreter, just type \"quit\".\n",
      "\n",
      "To get a list of available modules, keywords, symbols, or topics, type\n",
      "\"modules\", \"keywords\", \"symbols\", or \"topics\".  Each module also comes\n",
      "with a one-line summary of what it does; to list the modules whose name\n",
      "or summary contain a given string such as \"spam\", type \"modules spam\".\n",
      "\n",
      "help> keywords\n",
      "\n",
      "Here is a list of the Python keywords.  Enter any keyword to get more help.\n",
      "\n",
      "False               class               from                or\n",
      "None                continue            global              pass\n",
      "True                def                 if                  raise\n",
      "and                 del                 import              return\n",
      "as                  elif                in                  try\n",
      "assert              else                is                  while\n",
      "async               except              lambda              with\n",
      "await               finally             nonlocal            yield\n",
      "break               for                 not                 \n",
      "\n",
      "\n",
      "You are now leaving help and returning to the Python interpreter.\n",
      "If you want to ask for help on a particular object directly from the\n",
      "interpreter, you can type \"help(object)\".  Executing \"help('string')\"\n",
      "has the same effect as typing a particular string at the help> prompt.\n"
     ]
    }
   ],
   "source": [
    "'''\n",
    "Practice while and for loop\n",
    "'''\n",
    "\n",
    "\n",
    "help()"
   ]
  },
  {
   "cell_type": "code",
   "execution_count": 12,
   "id": "9c9bf14a",
   "metadata": {},
   "outputs": [
    {
     "name": "stdout",
     "output_type": "stream",
     "text": [
      "l\n",
      "c\n",
      "t\n",
      "r\n",
      " \n",
      "5\n",
      "l\n"
     ]
    }
   ],
   "source": [
    "str='lecture 5'\n",
    "\n",
    "for i in str:\n",
    "    if i == 'u' or i=='e':\n",
    "        continue\n",
    "       \n",
    "    print(i)\n",
    "        \n",
    "\n",
    "for i in str:\n",
    "    if i == 'u' or i=='e':\n",
    "        break\n",
    "    print(i)"
   ]
  },
  {
   "cell_type": "code",
   "execution_count": 20,
   "id": "bec7625d",
   "metadata": {},
   "outputs": [
    {
     "name": "stdout",
     "output_type": "stream",
     "text": [
      "m\n",
      "elco\n",
      "lcome to\n",
      "5 erutcel ot emoclew\n",
      "welcome\n",
      "False\n"
     ]
    }
   ],
   "source": [
    "str1='welcome to lecture 5'\n",
    "print(str1[5])\n",
    "print(str1[1:5])\n",
    "print(str1[2:10])\n",
    "print(str1[::-1])\n",
    "str1='welcome'\n",
    "#del str1 \n",
    "print(str1)\n",
    "\n",
    "print('w' not in str1)"
   ]
  },
  {
   "cell_type": "code",
   "execution_count": 24,
   "id": "1bbc71b3",
   "metadata": {},
   "outputs": [
    {
     "name": "stdout",
     "output_type": "stream",
     "text": [
      "ali and aslam are good friends\n",
      "aslam and ali are good friends\n"
     ]
    }
   ],
   "source": [
    "'''Format'''\n",
    "print('{} and {} are good friends'.format('ali','aslam'))\n",
    "print('{0} and {1} are good friends'.format('ali','aslam'))\n",
    "print('{1} and {0} are good friends'.format('ali','aslam'))"
   ]
  },
  {
   "cell_type": "code",
   "execution_count": 46,
   "id": "4418fab5",
   "metadata": {},
   "outputs": [
    {
     "name": "stdout",
     "output_type": "stream",
     "text": [
      "Wezzzzzz\n",
      "######Wezzzzzz######\n",
      "isalphanumeric  False\n",
      "identifier  False\n",
      "islower  True\n",
      "isupper  False\n",
      "isspace  False\n"
     ]
    }
   ],
   "source": [
    "str1='wezzzzzz'\n",
    "str2=str1.capitalize()\n",
    "print(str2)\n",
    "\n",
    "print(str2.center(20,'#'))\n",
    "str3=' w w'\n",
    "print('isalphanumeric ',str3.isalnum())\n",
    "print('identifier ',str3.isidentifier())\n",
    "print('islower ',str3.islower())\n",
    "print('isupper ',str3.isupper())\n",
    "print('isspace ',str3.isspace())"
   ]
  },
  {
   "cell_type": "code",
   "execution_count": 53,
   "id": "35150246",
   "metadata": {},
   "outputs": [
    {
     "name": "stdout",
     "output_type": "stream",
     "text": [
      "example asjgbdhag\n",
      "example asjgbdhag\n"
     ]
    }
   ],
   "source": [
    "str1='    example    '\n",
    "str2='asjgbdhag'\n",
    "print(str1.lstrip().rstrip(),str2)\n",
    "print(str1.strip(),str2)"
   ]
  },
  {
   "cell_type": "code",
   "execution_count": 68,
   "id": "16a016a0",
   "metadata": {},
   "outputs": [
    {
     "name": "stdout",
     "output_type": "stream",
     "text": [
      "[2, 4]\n",
      "[1, 2, 10, 4, 5, 6, 1, 2, 3, 4]\n",
      "[1, 10, 4, 5, 6, 1, 2, 3, 4]\n",
      "[1, 10, 4, 5, 6, 1, 2, 3, 4, 2]\n",
      "l2  [1, 10, 4, 5, 6, 2, 3]\n"
     ]
    }
   ],
   "source": [
    "'''\n",
    "Capitalize\n",
    "Center\n",
    "isalphanumeric\n",
    "isidentifier\n",
    "islower\n",
    "isupper\n",
    "isspace\n",
    "lstrip\n",
    "rstrip\n",
    "format method\n",
    "\n",
    "\n",
    "'''\n",
    "\n",
    "\n",
    "l1=[1,2,3,4,5,6,1,2,3,4]\n",
    "print(l1[1:4:2])\n",
    "\n",
    "l1[2]=10\n",
    "print(l1)\n",
    "l1.remove(2)\n",
    "\n",
    "print(l1)\n",
    "\n",
    "l1.append(2)\n",
    "print(l1)\n",
    "l2=[]\n",
    "for i in l1:\n",
    "    if i not in l2:\n",
    "        l2.append(i)\n",
    "        \n",
    "print('l2 ',l2)"
   ]
  },
  {
   "cell_type": "code",
   "execution_count": 72,
   "id": "d61aa127",
   "metadata": {},
   "outputs": [
    {
     "name": "stdout",
     "output_type": "stream",
     "text": [
      "1\n",
      "2\n",
      "True\n"
     ]
    }
   ],
   "source": [
    "'''\n",
    "repitition\n",
    "concatination\n",
    "length\n",
    "iteration\n",
    "\n",
    "\n",
    "membership operation \"in\" \"not in\"\n",
    "'''\n",
    "\n",
    "\n",
    "t1=(1,2,3,4,5)\n",
    "print(t1.count(2))\n",
    "print(t1.index(3))\n",
    "print(1 in t1)"
   ]
  },
  {
   "cell_type": "code",
   "execution_count": 80,
   "id": "f9d42525",
   "metadata": {},
   "outputs": [
    {
     "name": "stdout",
     "output_type": "stream",
     "text": [
      "{1, 2, 3, 4, 5, 6, 7, 8, 9}\n",
      "{1, 2, 3, 4, 5, 6, 7, 8, 9}\n",
      "{4, 5}\n",
      "{4, 5}\n",
      "{1, 2, 3}\n"
     ]
    }
   ],
   "source": [
    "\n",
    "\n",
    "set1={1,2,3,4,5}\n",
    "set2={4,5,6,7,8,9}\n",
    "\n",
    "print(set1|set2)\n",
    "print(set1.union(set2))\n",
    "print(set1&set2)\n",
    "print(set1.intersection(set2))\n",
    "print(set1 - set2)"
   ]
  },
  {
   "cell_type": "code",
   "execution_count": 17,
   "id": "39c4a9dd",
   "metadata": {},
   "outputs": [
    {
     "name": "stdout",
     "output_type": "stream",
     "text": [
      "agar\n",
      "asm\n",
      "auto\n",
      "bool\n",
      "break\n",
      "case\n",
      "catch\n",
      "char\n",
      "class\n",
      "const\n",
      "continue\n",
      "default\n",
      "delete\n",
      "do\n",
      "double\n",
      "else\n",
      "enum\n",
      "explicit\n",
      "export\n",
      "extern\n",
      "false\n",
      "float\n",
      "for\n",
      "friend\n",
      "goto\n",
      "if\n",
      "iif\n",
      "inline\n",
      "int\n",
      "long\n",
      "loop\n",
      "magar\n",
      "mutable\n",
      "namespace\n",
      "new\n",
      "operator\n",
      "private\n",
      "protected\n",
      "public\n",
      "register\n",
      "return\n",
      "round\n",
      "short\n",
      "signed\n",
      "sizeof\n",
      "static\n",
      "struct\n",
      "switch\n",
      "this\n",
      "throw\n",
      "true\n",
      "try\n",
      "typedef\n",
      "typeid\n",
      "typename\n",
      "union\n",
      "unsigned\n",
      "using\n",
      "virtual\n",
      "void\n",
      "volatile\n",
      "while\n"
     ]
    }
   ],
   "source": [
    "compiler =['loop', 'agar', 'magar',  'asm',  'else', 'new', 'this', 'auto', 'enum', 'operator', 'throw', 'bool' , 'explicit', 'private', 'true', 'break', 'export', 'protected' , 'try',  'case', 'extern', 'public', 'typedef', 'catch',  'false', 'register', 'typeid', 'char', 'float', 'typename',\n",
    "'class',  'for', 'return', 'union', 'const',  'friend', 'short', 'unsigned','goto', 'signed',  'using', 'continue', 'if', 'sizeof', 'virtual', 'default', 'inline',  'static', 'void', 'delete', 'int', 'volatile', 'do', 'long', 'struct',\n",
    "'double',  'mutable',  'switch',  'while',  'namespace', 'for', 'do', 'round', 'iif']\n",
    "\n",
    "compiler.sort()\n",
    "#for i in compiler:\n",
    "    #print(i)    \n",
    "    \n",
    "c=[]\n",
    "for i in compiler:\n",
    "    if i not in c:\n",
    "        c.append(i)\n",
    "for i in c:\n",
    "    print(i)"
   ]
  },
  {
   "cell_type": "code",
   "execution_count": 28,
   "id": "2c590c1c",
   "metadata": {},
   "outputs": [
    {
     "name": "stdout",
     "output_type": "stream",
     "text": [
      "True\n",
      "True\n",
      "[1, 2, 3]\n",
      "two\n",
      "(3, 'three')\n"
     ]
    }
   ],
   "source": [
    "dictionary={\n",
    "    1:'one',\n",
    "    2:'two',\n",
    "    3:'three'\n",
    "}\n",
    "\n",
    "print(any(dictionary))\n",
    "print(all(dictionary))\n",
    "\n",
    "print(sorted(dictionary))\n",
    "#dictionary.clear()\n",
    "print(dictionary.pop(2))  # require one argument(argument is key)\n",
    "print(dictionary.popitem())\n"
   ]
  },
  {
   "cell_type": "code",
   "execution_count": 29,
   "id": "3ef83a5c",
   "metadata": {},
   "outputs": [
    {
     "data": {
      "text/plain": [
       "'\\nfuctions to be tested on dictionary\\nitem()\\nget()\\nupdate()\\nkeys()\\ncopy()\\nindex()\\ncount()\\nvalues()\\n'"
      ]
     },
     "execution_count": 29,
     "metadata": {},
     "output_type": "execute_result"
    }
   ],
   "source": [
    "'''\n",
    "fuctions to be tested on dictionary\n",
    "item()\n",
    "get()\n",
    "update()\n",
    "keys()\n",
    "copy()\n",
    "index()\n",
    "count()\n",
    "values()\n",
    "len()\n",
    "minimum()\n",
    "maximum()\n",
    "'''"
   ]
  },
  {
   "cell_type": "code",
   "execution_count": 37,
   "id": "5f8b0c13",
   "metadata": {},
   "outputs": [
    {
     "ename": "SyntaxError",
     "evalue": "incomplete input (4036293463.py, line 15)",
     "output_type": "error",
     "traceback": [
      "\u001b[0;36m  Cell \u001b[0;32mIn[37], line 15\u001b[0;36m\u001b[0m\n\u001b[0;31m    all(a\u001b[0m\n\u001b[0m         ^\u001b[0m\n\u001b[0;31mSyntaxError\u001b[0m\u001b[0;31m:\u001b[0m incomplete input\n"
     ]
    }
   ],
   "source": [
    "a = int(input('Enter first number: '))\n",
    "b = int(input('Enter second number: '))\n",
    "\n",
    "\n",
    "def sum(a,b):\n",
    "    return a+b\n",
    "\n",
    "print(sum(a,b))\n",
    "\n",
    "print(abs(-20)) # absolute of a value\n",
    "\n"
   ]
  },
  {
   "cell_type": "code",
   "execution_count": 61,
   "id": "9cbbf9a4",
   "metadata": {},
   "outputs": [
    {
     "name": "stdout",
     "output_type": "stream",
     "text": [
      "0b100000000\n",
      "3\n",
      "Help on class reversed in module builtins:\n",
      "\n",
      "class reversed(object)\n",
      " |  reversed(sequence, /)\n",
      " |  \n",
      " |  Return a reverse iterator over the values of the given sequence.\n",
      " |  \n",
      " |  Methods defined here:\n",
      " |  \n",
      " |  __getattribute__(self, name, /)\n",
      " |      Return getattr(self, name).\n",
      " |  \n",
      " |  __iter__(self, /)\n",
      " |      Implement iter(self).\n",
      " |  \n",
      " |  __length_hint__(...)\n",
      " |      Private method returning an estimate of len(list(it)).\n",
      " |  \n",
      " |  __next__(self, /)\n",
      " |      Implement next(self).\n",
      " |  \n",
      " |  __reduce__(...)\n",
      " |      Return state information for pickling.\n",
      " |  \n",
      " |  __setstate__(...)\n",
      " |      Set state information for unpickling.\n",
      " |  \n",
      " |  ----------------------------------------------------------------------\n",
      " |  Static methods defined here:\n",
      " |  \n",
      " |  __new__(*args, **kwargs) from builtins.type\n",
      " |      Create and return a new object.  See help(type) for accurate signature.\n",
      "\n",
      "[1, 2, 3, 4]\n"
     ]
    }
   ],
   "source": [
    "a=[1,2,3,4]\n",
    "b=[0,1,2,3]\n",
    "c=[True,1,3]\n",
    "all(c) #returns false if a single value is false\n",
    "\n",
    "print(bin(256))\n",
    "print(eval('a[0]+2'))\n",
    "pow(4,2)\n",
    "help(reversed)\n",
    "print(a)\n"
   ]
  },
  {
   "cell_type": "code",
   "execution_count": 90,
   "id": "6c068f87",
   "metadata": {},
   "outputs": [
    {
     "name": "stdout",
     "output_type": "stream",
     "text": [
      "18\n",
      "[62.5, 75.0, 60.0, 60.0]\n",
      "Highest Average Score =  Mughees\n"
     ]
    },
    {
     "data": {
      "text/plain": [
       "{'CC': 80, 'IDS': 40, 'NM': 80, 'OBC': 40, 'Geography': 85}"
      ]
     },
     "execution_count": 90,
     "metadata": {},
     "output_type": "execute_result"
    }
   ],
   "source": [
    "'''\n",
    "Each student record consist of their name, age,a list of subjects they are enrolled in and their exams score in these subjects\n",
    "\n",
    "Step 1: Data initialization\n",
    "Initialize the data for these students.\n",
    "\n",
    "Step 2: Data Manipulation\n",
    "a) Calculate and store the Average score for each student.\n",
    "b) Find the student with highest Average score and print their name.\n",
    "c) Update student 2's age to 18.\n",
    "d) Add 'Geography' to student 3's list of subject and assign a score of 85.\n",
    "\n",
    "Step 3: Data Preparation\n",
    "a) Create a tuple for each student that contain their name, age and the subjects they are enrolled in.\n",
    "b) Create a set that contain all unique subjects across all students.\n",
    "\n",
    "'''\n",
    "\n",
    "students = [\n",
    "    ('Abubakar',[22],{'CC': 80,'IDS':40,'NM':70,'OBC':60}),\n",
    "    ('Mughees',[21],{'CC': 80,'IDS':90,'NM':40,'OBC':90}),\n",
    "    ('Asad',[23],{'CC': 80,'IDS':40,'NM':80,'OBC':40}),\n",
    "    ('Ahmad',[21],{'CC': 80,'IDS':60,'NM':30,'AI':70})\n",
    "]\n",
    "\n",
    "students[1][1][0] = 18   # updating student 2's age to 18\n",
    "print(students[1][1][0])\n",
    "\n",
    "averageScores=[]\n",
    "\n",
    "def caluclateAverageScore():\n",
    "    for student in students:\n",
    "        score=0\n",
    "        for course in student[2]:\n",
    "            score+=student[2][course]\n",
    "        averageScores.append(score/len(student[2]))\n",
    "\n",
    "caluclateAverageScore()\n",
    "print(averageScores)\n",
    "\n",
    "def highestAverageScore():\n",
    "    for i in range(len(averageScores)):\n",
    "        if max(averageScore) == averageScores[i]:\n",
    "            return students[i][0]\n",
    "        \n",
    "print('Highest Average Score = ',highestAverageScore())\n",
    "\n",
    "\n",
    "students[2][2]['Geography']=85  # Adding Geography with a score of 85 as a subject \n",
    "students[2][2]"
   ]
  },
  {
   "cell_type": "code",
   "execution_count": 19,
   "id": "f1f15cdf",
   "metadata": {},
   "outputs": [
    {
     "name": "stdout",
     "output_type": "stream",
     "text": [
      "Writing through python\n",
      "Writing through pythonAppending through python\n"
     ]
    },
    {
     "data": {
      "text/plain": [
       "24"
      ]
     },
     "execution_count": 19,
     "metadata": {},
     "output_type": "execute_result"
    }
   ],
   "source": [
    "file_path= r'/home/syedabubakarali/Documents/Python/file'\n",
    "with open(file_path,'r') as file:\n",
    "    content=file.read()\n",
    "    print(content)\n",
    "    \n",
    "    \n",
    "\n",
    "    \n",
    "file2=open(file_path,'a')\n",
    "#file2.write(\"Writing through python\\nWriting through python\")\n",
    "\n",
    "#file2.readline()\n",
    "#file2.readlines()\n",
    "\n",
    "file2.write('Appending through python')"
   ]
  },
  {
   "cell_type": "code",
   "execution_count": 26,
   "id": "ccec8405",
   "metadata": {},
   "outputs": [
    {
     "ename": "AttributeError",
     "evalue": "module 'os' has no attribute 'create'",
     "output_type": "error",
     "traceback": [
      "\u001b[0;31m---------------------------------------------------------------------------\u001b[0m",
      "\u001b[0;31mAttributeError\u001b[0m                            Traceback (most recent call last)",
      "Cell \u001b[0;32mIn[26], line 5\u001b[0m\n\u001b[1;32m      1\u001b[0m \u001b[38;5;28;01mimport\u001b[39;00m \u001b[38;5;21;01mos\u001b[39;00m\n\u001b[1;32m      3\u001b[0m \u001b[38;5;66;03m#os.rename('file','file1.txt')\u001b[39;00m\n\u001b[1;32m      4\u001b[0m \u001b[38;5;66;03m#os.remove('file1.txt')\u001b[39;00m\n\u001b[0;32m----> 5\u001b[0m os\u001b[38;5;241m.\u001b[39mcreate(\u001b[38;5;124m'\u001b[39m\u001b[38;5;124mfile1.txt\u001b[39m\u001b[38;5;124m'\u001b[39m)\n",
      "\u001b[0;31mAttributeError\u001b[0m: module 'os' has no attribute 'create'"
     ]
    }
   ],
   "source": [
    "import os\n",
    "\n",
    "#os.rename('file','file1.txt')\n",
    "#os.remove('file1.txt')\n",
    "'''\n",
    "ckdir\n",
    "mkdir\n",
    "getworkingdirectory\n",
    "'''"
   ]
  },
  {
   "cell_type": "code",
   "execution_count": 40,
   "id": "9e0ca0e6",
   "metadata": {},
   "outputs": [
    {
     "name": "stdout",
     "output_type": "stream",
     "text": [
      "22\n",
      "None 18\n"
     ]
    }
   ],
   "source": [
    "class Student:\n",
    "    name = 'Ali'\n",
    "    age = 22\n",
    "    rollno = 1\n",
    "\n",
    "    def Fees(self):\n",
    "        print(self.age * self.rollno)\n",
    "    \n",
    "std1 = Student()\n",
    "std2 = Student()\n",
    "std2.age = 18\n",
    "print(std1.Fees(), std2.age)"
   ]
  },
  {
   "cell_type": "code",
   "execution_count": null,
   "id": "ef3fd7cf",
   "metadata": {},
   "outputs": [],
   "source": []
  }
 ],
 "metadata": {
  "kernelspec": {
   "display_name": "Python 3 (ipykernel)",
   "language": "python",
   "name": "python3"
  },
  "language_info": {
   "codemirror_mode": {
    "name": "ipython",
    "version": 3
   },
   "file_extension": ".py",
   "mimetype": "text/x-python",
   "name": "python",
   "nbconvert_exporter": "python",
   "pygments_lexer": "ipython3",
   "version": "3.11.5"
  }
 },
 "nbformat": 4,
 "nbformat_minor": 5
}
