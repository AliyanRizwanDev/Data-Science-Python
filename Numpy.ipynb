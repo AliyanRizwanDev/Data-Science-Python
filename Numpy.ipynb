{
 "cells": [
  {
   "cell_type": "code",
   "execution_count": 3,
   "id": "f8a64001",
   "metadata": {},
   "outputs": [
    {
     "name": "stdout",
     "output_type": "stream",
     "text": [
      "[1 2 3 4 5]\n"
     ]
    }
   ],
   "source": [
    "import numpy as np\n",
    "\n",
    "arr = np.array([1, 2, 3, 4, 5])\n",
    "\n",
    "print(arr)"
   ]
  },
  {
   "cell_type": "code",
   "execution_count": 14,
   "id": "bb94c7e2",
   "metadata": {},
   "outputs": [
    {
     "name": "stdout",
     "output_type": "stream",
     "text": [
      "[[4607182418800017408 4607182418800017408]\n",
      " [4607182418800017408 4607182418800017408]\n",
      " [4607182418800017408 4607182418800017408]]\n",
      "[[0. 0.]\n",
      " [0. 0.]\n",
      " [0. 0.]]\n",
      "[[1. 1.]\n",
      " [1. 1.]\n",
      " [1. 1.]]\n"
     ]
    }
   ],
   "source": [
    "\"\"\"\n",
    "Data Types\n",
    "Boolean\n",
    "Integer(intc, intp, int8, int16, int32, int64)\n",
    "Unsigned integer(uint8, uint16, uint32, uint64)\n",
    "Float(16, 32, 64)\n",
    "Complex(64, 128)\n",
    "empty()\n",
    "\"\"\"\n",
    "\n",
    "arr = np.empty((3,2),dtype=int)\n",
    "print(arr)\n",
    "\n",
    "arr = np.zeros((3,2),dtype=float)\n",
    "print(arr)\n",
    "\n",
    "\n",
    "arr = np.ones((3,2),dtype=float)\n",
    "print(arr)"
   ]
  },
  {
   "cell_type": "code",
   "execution_count": 17,
   "id": "d4200e16",
   "metadata": {},
   "outputs": [
    {
     "name": "stdout",
     "output_type": "stream",
     "text": [
      "<class 'numpy.ndarray'>\n",
      "<class 'tuple'>\n"
     ]
    }
   ],
   "source": [
    "a=(1,2,3,4,5)\n",
    "b=np.asarray(a)\n",
    "arr = np.array((1,2,3))\n",
    "print(type(b))\n",
    "print(type(a))"
   ]
  },
  {
   "cell_type": "code",
   "execution_count": 23,
   "id": "f335d36e",
   "metadata": {},
   "outputs": [
    {
     "name": "stdout",
     "output_type": "stream",
     "text": [
      "[[1 2 3]\n",
      " [6 7 8]]\n",
      "[1 3 5 7 9]\n"
     ]
    }
   ],
   "source": [
    "a=np.array([[1,2,3],[6,7,8]])\n",
    "print(a)\n",
    "\n",
    "\n",
    "b = np.arange(1,10,2,int)\n",
    "print(b)"
   ]
  },
  {
   "cell_type": "code",
   "execution_count": 26,
   "id": "1f11c7ed",
   "metadata": {},
   "outputs": [
    {
     "data": {
      "text/plain": [
       "array([10.        , 13.33333333, 16.66666667, 20.        ])"
      ]
     },
     "execution_count": 26,
     "metadata": {},
     "output_type": "execute_result"
    }
   ],
   "source": [
    "np.linspace(10, 20, num=4)"
   ]
  },
  {
   "cell_type": "code",
   "execution_count": 30,
   "id": "414dc0bc",
   "metadata": {},
   "outputs": [
    {
     "data": {
      "text/plain": [
       "array([ 1,  4,  9, 16])"
      ]
     },
     "execution_count": 30,
     "metadata": {},
     "output_type": "execute_result"
    }
   ],
   "source": [
    "L1=np.array([1,2,3,4])\n",
    "L2=np.array([1,2,3,4])\n",
    "L1*L2\n",
    "\n",
    "'''\n",
    "string functions\n",
    "add \n",
    "multiply\n",
    "center\n",
    "capitalize\n",
    "title\n",
    "lower\n",
    "upper\n",
    "split\n",
    "split lines\n",
    "strip\n",
    "join\n",
    "replace\n",
    "\n",
    "'''\n",
    "\n",
    "\n",
    "\n"
   ]
  },
  {
   "cell_type": "code",
   "execution_count": 39,
   "id": "d243d0b9",
   "metadata": {},
   "outputs": [
    {
     "data": {
      "text/plain": [
       "array('sdsdsd', dtype='<U6')"
      ]
     },
     "execution_count": 39,
     "metadata": {},
     "output_type": "execute_result"
    }
   ],
   "source": [
    "s1=np.char.add('string1','string2')\n",
    "s1=np.array(['string1','s2'])\n",
    "s2=np.array([\"a\",'b','c'])\n",
    "np.char.multiply(s2,3)\n",
    "\n",
    "s3='sd'\n",
    "np.char.multiply(s3,3)"
   ]
  },
  {
   "cell_type": "code",
   "execution_count": 35,
   "id": "8a2bed99",
   "metadata": {},
   "outputs": [
    {
     "data": {
      "text/plain": [
       "array(['aaa', 'bbb', 'ccc'], dtype='<U3')"
      ]
     },
     "execution_count": 35,
     "metadata": {},
     "output_type": "execute_result"
    }
   ],
   "source": [
    "a = np.array([\"a\", \"b\", \"c\"])\n",
    "\n",
    "np.char.multiply(a, 3)"
   ]
  },
  {
   "cell_type": "code",
   "execution_count": 47,
   "id": "35200a53",
   "metadata": {},
   "outputs": [
    {
     "name": "stdout",
     "output_type": "stream",
     "text": [
      "[1 2 3 4 5 6]\n"
     ]
    }
   ],
   "source": [
    "'''\n",
    "Linear algebra Funtions\n",
    "dot()\n",
    "vdot()\n",
    "inner()\n",
    "matmul()\n",
    "det()\n",
    "solve()\n",
    "inverse()\n",
    "\n",
    "'''\n",
    "\n",
    "a = [[1, 0], [0, 1]]\n",
    "\n",
    "b = [[4, 1], [2, 2]]\n",
    "\n",
    "np.dot(a, b)\n",
    "\n",
    "a = np.array([[1, 2], [3, 4]])\n",
    "\n",
    "b = np.array([[5, 6]])\n",
    "\n",
    "np.concatenate((a, b), axis=0)\n",
    "print(np.append(a,b))"
   ]
  },
  {
   "cell_type": "code",
   "execution_count": 2,
   "id": "9403be48",
   "metadata": {},
   "outputs": [
    {
     "name": "stdout",
     "output_type": "stream",
     "text": [
      "5.1\n",
      "6\n",
      "5.5\n",
      "2.6012817353502227\n",
      "6.766666666666667\n"
     ]
    }
   ],
   "source": [
    "import math as m\n",
    "import statistics as s\n",
    "\n",
    "numbers=[1,2,3,4,5,6,6,7,8,9]\n",
    "print(s.mean(numbers))\n",
    "print(s.mode(numbers))\n",
    "print(s.median(numbers))\n",
    "print(s.stdev(numbers))\n",
    "print(s.variance(numbers))"
   ]
  },
  {
   "cell_type": "code",
   "execution_count": null,
   "id": "0b08b873",
   "metadata": {},
   "outputs": [],
   "source": []
  }
 ],
 "metadata": {
  "kernelspec": {
   "display_name": "Python 3 (ipykernel)",
   "language": "python",
   "name": "python3"
  },
  "language_info": {
   "codemirror_mode": {
    "name": "ipython",
    "version": 3
   },
   "file_extension": ".py",
   "mimetype": "text/x-python",
   "name": "python",
   "nbconvert_exporter": "python",
   "pygments_lexer": "ipython3",
   "version": "3.11.5"
  }
 },
 "nbformat": 4,
 "nbformat_minor": 5
}
