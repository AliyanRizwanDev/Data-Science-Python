{
 "cells": [
  {
   "cell_type": "code",
   "execution_count": 5,
   "id": "36ed611b",
   "metadata": {},
   "outputs": [
    {
     "name": "stdout",
     "output_type": "stream",
     "text": [
      "Ai 28 11\n"
     ]
    }
   ],
   "source": [
    "name=\"Ai\"\n",
    "age=28\n",
    "_a=11\n",
    "print(name,age,_a)\n"
   ]
  },
  {
   "cell_type": "code",
   "execution_count": 6,
   "id": "baf3ef3b",
   "metadata": {},
   "outputs": [
    {
     "name": "stdout",
     "output_type": "stream",
     "text": [
      "100\n"
     ]
    }
   ],
   "source": [
    "x=y=z=100\n",
    "print(x)"
   ]
  },
  {
   "cell_type": "code",
   "execution_count": 11,
   "id": "283e916f",
   "metadata": {},
   "outputs": [],
   "source": [
    "#numeric:int,float,complex ; dictionary:bool,set,string ; sequence:list,tuple,string"
   ]
  },
  {
   "cell_type": "code",
   "execution_count": 17,
   "id": "345c8f3d",
   "metadata": {},
   "outputs": [
    {
     "name": "stdout",
     "output_type": "stream",
     "text": [
      "Lec\n",
      "u\n",
      "Lecture\n",
      "Lecture twoLecture two\n"
     ]
    }
   ],
   "source": [
    "str1=\"Lecture two\"\n",
    "str2='week 2'\n",
    "print(str1[0:3])\n",
    "print(str1[4])\n",
    "print(str1[:7])\n",
    "print(str1*2)"
   ]
  },
  {
   "cell_type": "code",
   "execution_count": 19,
   "id": "8ea02a1b",
   "metadata": {},
   "outputs": [
    {
     "name": "stdout",
     "output_type": "stream",
     "text": [
      "[1, 'ali', 3]\n",
      "[1, 'ali']\n",
      "[1, 'ali', 3, 1, 'ali', 3]\n"
     ]
    }
   ],
   "source": [
    "list1=[1,\"ali\",3]\n",
    "print(list1)\n",
    "print(list1[0:2])\n",
    "print(list1+list1)"
   ]
  },
  {
   "cell_type": "code",
   "execution_count": 36,
   "id": "1105e0f2",
   "metadata": {},
   "outputs": [
    {
     "data": {
      "text/plain": [
       "[2, 4, 6, 8, 10, 12, 14, 16, 18, 20]"
      ]
     },
     "execution_count": 36,
     "metadata": {},
     "output_type": "execute_result"
    }
   ],
   "source": [
    "#create an even \n",
    "even_numbers = []\n",
    "for i in range(1, 11):\n",
    "    even_numbers += [i * 2]\n",
    "    \n",
    "even_numbers"
   ]
  },
  {
   "cell_type": "code",
   "execution_count": 28,
   "id": "879e5f10",
   "metadata": {},
   "outputs": [
    {
     "name": "stdout",
     "output_type": "stream",
     "text": [
      "['a', 'b', 'c']\n"
     ]
    }
   ],
   "source": [
    "mylist = [\"a\", \"b\", \"a\", \"c\", \"c\"]\n",
    "mylist = list(dict.fromkeys(mylist))\n",
    "print(mylist)"
   ]
  },
  {
   "cell_type": "code",
   "execution_count": 40,
   "id": "30ceceb2",
   "metadata": {},
   "outputs": [
    {
     "name": "stdout",
     "output_type": "stream",
     "text": [
      "<class 'tuple'>\n",
      "(2, 'three')\n"
     ]
    }
   ],
   "source": [
    "tuple=(\"one\",2,\"three\")\n",
    "print(type(tuple))\n",
    "print(tuple[1:])"
   ]
  },
  {
   "cell_type": "code",
   "execution_count": 47,
   "id": "d4afdd3d",
   "metadata": {},
   "outputs": [
    {
     "name": "stdout",
     "output_type": "stream",
     "text": [
      "('mon', 'tue', 'wed', 'thu', 'fri', 'sat', 'sun')\n"
     ]
    }
   ],
   "source": [
    "tuple=(\"mon\",\"tue\",\"wed\",\"thu\",\"fri\",\"sat\",\"sun\")\n",
    "print(tuple)"
   ]
  },
  {
   "cell_type": "code",
   "execution_count": 50,
   "id": "f97acf6a",
   "metadata": {},
   "outputs": [
    {
     "name": "stdout",
     "output_type": "stream",
     "text": [
      "(15, 14, 13, 12, 11, 10)\n"
     ]
    }
   ],
   "source": [
    "# Reversing a list using reversed()\n",
    "def Reverse(tuples):\n",
    "\tnew_tup = ()\n",
    "\tfor k in reversed(tuples):\n",
    "\t\tnew_tup = new_tup + (k,)\n",
    "\tprint (new_tup)\n",
    "\n",
    "# Driver Code\n",
    "tuples = (10, 11, 12, 13, 14, 15)\n",
    "Reverse(tuples)\n"
   ]
  },
  {
   "cell_type": "code",
   "execution_count": 55,
   "id": "029a8dc5",
   "metadata": {},
   "outputs": [
    {
     "name": "stdout",
     "output_type": "stream",
     "text": [
      "{23: 'Ali', 20: 'Joker'}\n"
     ]
    }
   ],
   "source": [
    "student={23:'Ali',20:'Joker'}\n",
    "print(student)"
   ]
  },
  {
   "cell_type": "code",
   "execution_count": 53,
   "id": "34aa1ca3",
   "metadata": {},
   "outputs": [
    {
     "name": "stdout",
     "output_type": "stream",
     "text": [
      "dict_keys([28, 'Ai'])\n"
     ]
    }
   ],
   "source": []
  },
  {
   "cell_type": "code",
   "execution_count": 13,
   "id": "b6dabc62",
   "metadata": {},
   "outputs": [
    {
     "name": "stdout",
     "output_type": "stream",
     "text": [
      "l\n",
      "c\n",
      "t\n",
      "r\n",
      " \n",
      "5\n"
     ]
    }
   ],
   "source": [
    "#for loop\n",
    "a= \"lecture 5\"\n",
    "for x in a:\n",
    "    if x == \"u\" or x== \"e\":\n",
    "        continue                      \n",
    "    else:\n",
    "        print(x)\n",
    "        "
   ]
  },
  {
   "cell_type": "code",
   "execution_count": 18,
   "id": "890fb723",
   "metadata": {},
   "outputs": [
    {
     "name": "stdout",
     "output_type": "stream",
     "text": [
      "n\n",
      "ope \n",
      "pe \n",
      "pe not a\n"
     ]
    }
   ],
   "source": [
    "a= \"nope not anymore\" #slicing\n",
    "print(a[5])\n",
    "print(a[1:5])\n",
    "print(a[2:5])\n",
    "print(a[2:10])      "
   ]
  },
  {
   "cell_type": "code",
   "execution_count": 22,
   "id": "3568e5ac",
   "metadata": {},
   "outputs": [
    {
     "ename": "TypeError",
     "evalue": "'str' object does not support item assignment",
     "output_type": "error",
     "traceback": [
      "\u001b[1;31m---------------------------------------------------------------------------\u001b[0m",
      "\u001b[1;31mTypeError\u001b[0m                                 Traceback (most recent call last)",
      "\u001b[1;32m~\\AppData\\Local\\Temp/ipykernel_21780/2519428764.py\u001b[0m in \u001b[0;36m<module>\u001b[1;34m\u001b[0m\n\u001b[1;32m----> 1\u001b[1;33m \u001b[0ma\u001b[0m\u001b[1;33m[\u001b[0m\u001b[1;36m5\u001b[0m\u001b[1;33m]\u001b[0m\u001b[1;33m=\u001b[0m\u001b[1;34m\"a\"\u001b[0m\u001b[1;33m\u001b[0m\u001b[1;33m\u001b[0m\u001b[0m\n\u001b[0m",
      "\u001b[1;31mTypeError\u001b[0m: 'str' object does not support item assignment"
     ]
    }
   ],
   "source": [
    "a[5]=\"a\""
   ]
  },
  {
   "cell_type": "code",
   "execution_count": 30,
   "id": "14a7b049",
   "metadata": {},
   "outputs": [],
   "source": [
    "str=\"A child lived in the cave ,since day he opened his eyes\"\n"
   ]
  },
  {
   "cell_type": "code",
   "execution_count": 31,
   "id": "c460358c",
   "metadata": {},
   "outputs": [
    {
     "data": {
      "text/plain": [
       "'A child lived in the cave ,since day he opened his eyes'"
      ]
     },
     "execution_count": 31,
     "metadata": {},
     "output_type": "execute_result"
    }
   ],
   "source": [
    "str"
   ]
  },
  {
   "cell_type": "code",
   "execution_count": 32,
   "id": "03ed0431",
   "metadata": {},
   "outputs": [
    {
     "ename": "TypeError",
     "evalue": "'str' object doesn't support item deletion",
     "output_type": "error",
     "traceback": [
      "\u001b[1;31m---------------------------------------------------------------------------\u001b[0m",
      "\u001b[1;31mTypeError\u001b[0m                                 Traceback (most recent call last)",
      "\u001b[1;32m~\\AppData\\Local\\Temp/ipykernel_21780/1123002651.py\u001b[0m in \u001b[0;36m<module>\u001b[1;34m\u001b[0m\n\u001b[1;32m----> 1\u001b[1;33m \u001b[1;32mdel\u001b[0m \u001b[0mstr\u001b[0m\u001b[1;33m[\u001b[0m\u001b[1;36m1\u001b[0m\u001b[1;33m]\u001b[0m\u001b[1;33m\u001b[0m\u001b[1;33m\u001b[0m\u001b[0m\n\u001b[0m",
      "\u001b[1;31mTypeError\u001b[0m: 'str' object doesn't support item deletion"
     ]
    }
   ],
   "source": [
    "del str[1]"
   ]
  },
  {
   "cell_type": "code",
   "execution_count": 33,
   "id": "16a8a2fe",
   "metadata": {},
   "outputs": [
    {
     "data": {
      "text/plain": [
       "str"
      ]
     },
     "execution_count": 33,
     "metadata": {},
     "output_type": "execute_result"
    }
   ],
   "source": [
    "del str\n",
    "str"
   ]
  },
  {
   "cell_type": "code",
   "execution_count": 60,
   "id": "61735a2a",
   "metadata": {},
   "outputs": [
    {
     "data": {
      "text/plain": [
       "True"
      ]
     },
     "execution_count": 60,
     "metadata": {},
     "output_type": "execute_result"
    }
   ],
   "source": [
    "str=\"a child lived in the cave ,since day he opened his eyes\"\n",
    "\"c\" in str"
   ]
  },
  {
   "cell_type": "code",
   "execution_count": 49,
   "id": "ee107dc8",
   "metadata": {},
   "outputs": [
    {
     "name": "stdout",
     "output_type": "stream",
     "text": [
      "aslam and ali are good friends\n"
     ]
    }
   ],
   "source": [
    "print(\"{1} and {0} are good friends\".format(\"ali\",\"aslam\"))"
   ]
  },
  {
   "cell_type": "code",
   "execution_count": 52,
   "id": "6c022a16",
   "metadata": {},
   "outputs": [
    {
     "data": {
      "text/plain": [
       "'A child lived in the cave ,since day he opened his eyes'"
      ]
     },
     "execution_count": 52,
     "metadata": {},
     "output_type": "execute_result"
    }
   ],
   "source": [
    "str.capitalize()\n"
   ]
  },
  {
   "cell_type": "code",
   "execution_count": 57,
   "id": "c18c4964",
   "metadata": {},
   "outputs": [
    {
     "data": {
      "text/plain": [
       "'######################a child lived in the cave ,since day he opened his eyes#######################'"
      ]
     },
     "execution_count": 57,
     "metadata": {},
     "output_type": "execute_result"
    }
   ],
   "source": [
    "str.center(100,'#')"
   ]
  },
  {
   "cell_type": "code",
   "execution_count": 61,
   "id": "b31c86b1",
   "metadata": {},
   "outputs": [
    {
     "data": {
      "text/plain": [
       "False"
      ]
     },
     "execution_count": 61,
     "metadata": {},
     "output_type": "execute_result"
    }
   ],
   "source": [
    "str.isalnum()"
   ]
  },
  {
   "cell_type": "code",
   "execution_count": 65,
   "id": "485eaf2a",
   "metadata": {},
   "outputs": [
    {
     "data": {
      "text/plain": [
       "True"
      ]
     },
     "execution_count": 65,
     "metadata": {},
     "output_type": "execute_result"
    }
   ],
   "source": [
    "str=\"a27\"\n",
    "str.isalnum()"
   ]
  },
  {
   "cell_type": "code",
   "execution_count": 4,
   "id": "daa8840b",
   "metadata": {},
   "outputs": [
    {
     "data": {
      "text/plain": [
       "4"
      ]
     },
     "execution_count": 4,
     "metadata": {},
     "output_type": "execute_result"
    }
   ],
   "source": [
    "lst=[1,2,3,4]\n",
    "max(lst)"
   ]
  },
  {
   "cell_type": "code",
   "execution_count": 67,
   "id": "597ab008",
   "metadata": {},
   "outputs": [
    {
     "data": {
      "text/plain": [
       "True"
      ]
     },
     "execution_count": 67,
     "metadata": {},
     "output_type": "execute_result"
    }
   ],
   "source": [
    "str.isidentifier()"
   ]
  },
  {
   "cell_type": "code",
   "execution_count": 68,
   "id": "5f2d18c5",
   "metadata": {},
   "outputs": [
    {
     "data": {
      "text/plain": [
       "False"
      ]
     },
     "execution_count": 68,
     "metadata": {},
     "output_type": "execute_result"
    }
   ],
   "source": [
    "str.isupper()"
   ]
  },
  {
   "cell_type": "code",
   "execution_count": 69,
   "id": "7f9f0f65",
   "metadata": {},
   "outputs": [
    {
     "data": {
      "text/plain": [
       "True"
      ]
     },
     "execution_count": 69,
     "metadata": {},
     "output_type": "execute_result"
    }
   ],
   "source": [
    "str.islower()"
   ]
  },
  {
   "cell_type": "code",
   "execution_count": 70,
   "id": "6776a191",
   "metadata": {},
   "outputs": [
    {
     "data": {
      "text/plain": [
       "False"
      ]
     },
     "execution_count": 70,
     "metadata": {},
     "output_type": "execute_result"
    }
   ],
   "source": [
    "str.isspace()"
   ]
  },
  {
   "cell_type": "code",
   "execution_count": 71,
   "id": "bd7f3f10",
   "metadata": {},
   "outputs": [
    {
     "data": {
      "text/plain": [
       "'A27'"
      ]
     },
     "execution_count": 71,
     "metadata": {},
     "output_type": "execute_result"
    }
   ],
   "source": [
    "str.upper()"
   ]
  },
  {
   "cell_type": "code",
   "execution_count": 72,
   "id": "b6bbc327",
   "metadata": {},
   "outputs": [
    {
     "data": {
      "text/plain": [
       "'a27'"
      ]
     },
     "execution_count": 72,
     "metadata": {},
     "output_type": "execute_result"
    }
   ],
   "source": [
    "str.lower()"
   ]
  },
  {
   "cell_type": "code",
   "execution_count": 73,
   "id": "6225a04b",
   "metadata": {},
   "outputs": [
    {
     "data": {
      "text/plain": [
       "'     how'"
      ]
     },
     "execution_count": 73,
     "metadata": {},
     "output_type": "execute_result"
    }
   ],
   "source": [
    "str=\"     how\"\n",
    "str"
   ]
  },
  {
   "cell_type": "code",
   "execution_count": 80,
   "id": "e18f75c2",
   "metadata": {},
   "outputs": [
    {
     "data": {
      "text/plain": [
       "'how'"
      ]
     },
     "execution_count": 80,
     "metadata": {},
     "output_type": "execute_result"
    }
   ],
   "source": [
    "str.lstrip()"
   ]
  },
  {
   "cell_type": "code",
   "execution_count": 82,
   "id": "07f24a84",
   "metadata": {},
   "outputs": [],
   "source": [
    "str='how     '\n"
   ]
  },
  {
   "cell_type": "code",
   "execution_count": 83,
   "id": "1bc0f176",
   "metadata": {},
   "outputs": [
    {
     "data": {
      "text/plain": [
       "'how'"
      ]
     },
     "execution_count": 83,
     "metadata": {},
     "output_type": "execute_result"
    }
   ],
   "source": [
    "str.rstrip()"
   ]
  },
  {
   "cell_type": "code",
   "execution_count": 86,
   "id": "8c760710",
   "metadata": {},
   "outputs": [
    {
     "name": "stdout",
     "output_type": "stream",
     "text": [
      "example\n"
     ]
    }
   ],
   "source": [
    "str=\"      example\"\n",
    "print(str.lstrip())\n"
   ]
  },
  {
   "cell_type": "code",
   "execution_count": 88,
   "id": "bf9ba616",
   "metadata": {},
   "outputs": [
    {
     "name": "stdout",
     "output_type": "stream",
     "text": [
      "example\n"
     ]
    }
   ],
   "source": [
    "str=\"example     \"\n",
    "print(str.rstrip())"
   ]
  },
  {
   "cell_type": "code",
   "execution_count": 89,
   "id": "72114576",
   "metadata": {},
   "outputs": [
    {
     "data": {
      "text/plain": [
       "[1, 2, 3, 4, 5]"
      ]
     },
     "execution_count": 89,
     "metadata": {},
     "output_type": "execute_result"
    }
   ],
   "source": [
    "lst=[1,2,3,4,5]\n",
    "lst"
   ]
  },
  {
   "cell_type": "code",
   "execution_count": 94,
   "id": "e8e57a34",
   "metadata": {},
   "outputs": [
    {
     "data": {
      "text/plain": [
       "[2]"
      ]
     },
     "execution_count": 94,
     "metadata": {},
     "output_type": "execute_result"
    }
   ],
   "source": [
    "lst[1:4:2]"
   ]
  },
  {
   "cell_type": "code",
   "execution_count": 95,
   "id": "001f4633",
   "metadata": {},
   "outputs": [
    {
     "data": {
      "text/plain": [
       "[1, 2, 10, 4, 5]"
      ]
     },
     "execution_count": 95,
     "metadata": {},
     "output_type": "execute_result"
    }
   ],
   "source": [
    "lst[2]=10\n",
    "lst"
   ]
  },
  {
   "cell_type": "code",
   "execution_count": 96,
   "id": "31fae13c",
   "metadata": {},
   "outputs": [],
   "source": [
    "lst.remove(2)"
   ]
  },
  {
   "cell_type": "code",
   "execution_count": 97,
   "id": "5b60b2d9",
   "metadata": {},
   "outputs": [
    {
     "data": {
      "text/plain": [
       "[1, 10, 4, 5]"
      ]
     },
     "execution_count": 97,
     "metadata": {},
     "output_type": "execute_result"
    }
   ],
   "source": [
    "lst"
   ]
  },
  {
   "cell_type": "code",
   "execution_count": 98,
   "id": "b0cda448",
   "metadata": {},
   "outputs": [
    {
     "data": {
      "text/plain": [
       "[1, 10, 4, 5, 4]"
      ]
     },
     "execution_count": 98,
     "metadata": {},
     "output_type": "execute_result"
    }
   ],
   "source": [
    "lst.append(4)\n",
    "lst"
   ]
  },
  {
   "cell_type": "code",
   "execution_count": 99,
   "id": "afa35185",
   "metadata": {},
   "outputs": [],
   "source": [
    "lst.remove(10)"
   ]
  },
  {
   "cell_type": "code",
   "execution_count": 100,
   "id": "8aa458b7",
   "metadata": {},
   "outputs": [
    {
     "data": {
      "text/plain": [
       "[1, 4, 5, 4]"
      ]
     },
     "execution_count": 100,
     "metadata": {},
     "output_type": "execute_result"
    }
   ],
   "source": [
    "lst"
   ]
  },
  {
   "cell_type": "code",
   "execution_count": 102,
   "id": "5789e18d",
   "metadata": {},
   "outputs": [
    {
     "name": "stdout",
     "output_type": "stream",
     "text": [
      "[1, 4, 5, 4]\n",
      "[1, 4, 5, 4]\n",
      "[1, 4, 5, 4]\n",
      "[1, 4, 5, 4]\n"
     ]
    }
   ],
   "source": [
    "#iteration\n",
    "for i in lst:\n",
    "    print(lst)\n",
    "    "
   ]
  },
  {
   "cell_type": "code",
   "execution_count": 105,
   "id": "96b5653b",
   "metadata": {},
   "outputs": [
    {
     "data": {
      "text/plain": [
       "5"
      ]
     },
     "execution_count": 105,
     "metadata": {},
     "output_type": "execute_result"
    }
   ],
   "source": [
    "max(lst)"
   ]
  },
  {
   "cell_type": "code",
   "execution_count": 106,
   "id": "48cb262c",
   "metadata": {},
   "outputs": [
    {
     "data": {
      "text/plain": [
       "1"
      ]
     },
     "execution_count": 106,
     "metadata": {},
     "output_type": "execute_result"
    }
   ],
   "source": [
    "min(lst)"
   ]
  },
  {
   "cell_type": "code",
   "execution_count": 107,
   "id": "75f781d8",
   "metadata": {},
   "outputs": [
    {
     "data": {
      "text/plain": [
       "4"
      ]
     },
     "execution_count": 107,
     "metadata": {},
     "output_type": "execute_result"
    }
   ],
   "source": [
    "len(lst)"
   ]
  },
  {
   "cell_type": "code",
   "execution_count": 109,
   "id": "f3d91e3e",
   "metadata": {},
   "outputs": [
    {
     "ename": "AttributeError",
     "evalue": "'list' object has no attribute 'duplicate'",
     "output_type": "error",
     "traceback": [
      "\u001b[1;31m---------------------------------------------------------------------------\u001b[0m",
      "\u001b[1;31mAttributeError\u001b[0m                            Traceback (most recent call last)",
      "\u001b[1;32m~\\AppData\\Local\\Temp/ipykernel_21780/3934991105.py\u001b[0m in \u001b[0;36m<module>\u001b[1;34m\u001b[0m\n\u001b[0;32m      1\u001b[0m \u001b[0mlist1\u001b[0m\u001b[1;33m=\u001b[0m\u001b[1;33m[\u001b[0m\u001b[1;36m1\u001b[0m\u001b[1;33m,\u001b[0m\u001b[1;36m2\u001b[0m\u001b[1;33m,\u001b[0m\u001b[1;36m3\u001b[0m\u001b[1;33m,\u001b[0m\u001b[1;36m2\u001b[0m\u001b[1;33m,\u001b[0m\u001b[1;36m4\u001b[0m\u001b[1;33m,\u001b[0m\u001b[1;36m5\u001b[0m\u001b[1;33m,\u001b[0m\u001b[1;36m4\u001b[0m\u001b[1;33m,\u001b[0m\u001b[1;36m5\u001b[0m\u001b[1;33m]\u001b[0m\u001b[1;33m\u001b[0m\u001b[1;33m\u001b[0m\u001b[0m\n\u001b[1;32m----> 2\u001b[1;33m \u001b[0mlist1\u001b[0m\u001b[1;33m.\u001b[0m\u001b[0mduplicate\u001b[0m\u001b[1;33m(\u001b[0m\u001b[1;33m)\u001b[0m\u001b[1;33m\u001b[0m\u001b[1;33m\u001b[0m\u001b[0m\n\u001b[0m",
      "\u001b[1;31mAttributeError\u001b[0m: 'list' object has no attribute 'duplicate'"
     ]
    }
   ],
   "source": [
    "list1=[1,2,3,2,4,5,4,5]\n",
    "list1.duplicate()\n"
   ]
  },
  {
   "cell_type": "code",
   "execution_count": 121,
   "id": "030da4e1",
   "metadata": {},
   "outputs": [
    {
     "name": "stdout",
     "output_type": "stream",
     "text": [
      "(1, 2, 3, 4, 5, 6, 6)\n"
     ]
    }
   ],
   "source": [
    "tup1=(1,2,3,4,5,6,6)\n",
    "print(tup1)\n"
   ]
  },
  {
   "cell_type": "code",
   "execution_count": 123,
   "id": "5e12bd13",
   "metadata": {},
   "outputs": [
    {
     "data": {
      "text/plain": [
       "2"
      ]
     },
     "execution_count": 123,
     "metadata": {},
     "output_type": "execute_result"
    }
   ],
   "source": [
    "tup1.count(6)"
   ]
  },
  {
   "cell_type": "code",
   "execution_count": 127,
   "id": "4f44847d",
   "metadata": {},
   "outputs": [
    {
     "data": {
      "text/plain": [
       "1"
      ]
     },
     "execution_count": 127,
     "metadata": {},
     "output_type": "execute_result"
    }
   ],
   "source": [
    "tup1.index(2)"
   ]
  },
  {
   "cell_type": "code",
   "execution_count": 128,
   "id": "17041ad0",
   "metadata": {},
   "outputs": [
    {
     "data": {
      "text/plain": [
       "True"
      ]
     },
     "execution_count": 128,
     "metadata": {},
     "output_type": "execute_result"
    }
   ],
   "source": [
    "2 in tup1 #membership"
   ]
  },
  {
   "cell_type": "code",
   "execution_count": null,
   "id": "8370962c",
   "metadata": {},
   "outputs": [],
   "source": []
  },
  {
   "cell_type": "code",
   "execution_count": 129,
   "id": "495486c3",
   "metadata": {},
   "outputs": [],
   "source": [
    "AHH={1,2,4,3,5}"
   ]
  },
  {
   "cell_type": "code",
   "execution_count": 130,
   "id": "9bab6afd",
   "metadata": {},
   "outputs": [
    {
     "data": {
      "text/plain": [
       "{1, 2, 3, 4, 5}"
      ]
     },
     "execution_count": 130,
     "metadata": {},
     "output_type": "execute_result"
    }
   ],
   "source": [
    "AHH"
   ]
  },
  {
   "cell_type": "code",
   "execution_count": 139,
   "id": "0dc4a2aa",
   "metadata": {},
   "outputs": [
    {
     "name": "stdout",
     "output_type": "stream",
     "text": [
      "{'M', 'jan'}\n"
     ]
    }
   ],
   "source": [
    "week1={'M','T','W'}\n",
    "week1.add('jan')\n",
    "week1.remove('W')\n",
    "week1.discard('T')\n",
    "print(week1)\n"
   ]
  },
  {
   "cell_type": "code",
   "execution_count": 140,
   "id": "090ad059",
   "metadata": {},
   "outputs": [
    {
     "name": "stdout",
     "output_type": "stream",
     "text": [
      "{1, 2, 3, 4, 5, 6, 7, 8}\n"
     ]
    }
   ],
   "source": [
    "set1={1,2,3,4}\n",
    "set2={5,6,7,8}\n",
    "print(set1|set2)#union operator"
   ]
  },
  {
   "cell_type": "code",
   "execution_count": 141,
   "id": "96ebb71f",
   "metadata": {},
   "outputs": [
    {
     "name": "stdout",
     "output_type": "stream",
     "text": [
      "{1, 2, 3, 4, 5, 6, 7, 8}\n"
     ]
    }
   ],
   "source": [
    "set1={1,2,3,4}\n",
    "set2={5,6,7,8}\n",
    "print(set1.union(set2))#union operator"
   ]
  },
  {
   "cell_type": "code",
   "execution_count": 143,
   "id": "7aaa2953",
   "metadata": {
    "scrolled": true
   },
   "outputs": [
    {
     "name": "stdout",
     "output_type": "stream",
     "text": [
      "{5}\n"
     ]
    }
   ],
   "source": [
    "set1={1,2,3,4,5}\n",
    "set2={5,6,7,8}\n",
    "print(set1&set2)#intersection operator\n"
   ]
  },
  {
   "cell_type": "code",
   "execution_count": 144,
   "id": "70d67711",
   "metadata": {},
   "outputs": [
    {
     "name": "stdout",
     "output_type": "stream",
     "text": [
      "{5}\n"
     ]
    }
   ],
   "source": [
    "set1={1,2,3,4,5}\n",
    "set2={5,6,7,8}\n",
    "print(set1.intersection(set2))#intersection operator"
   ]
  },
  {
   "cell_type": "code",
   "execution_count": 145,
   "id": "98656097",
   "metadata": {},
   "outputs": [
    {
     "name": "stdout",
     "output_type": "stream",
     "text": [
      "{1, 2, 3, 4}\n"
     ]
    }
   ],
   "source": [
    "set1={1,2,3,4,5}\n",
    "set2={5,6,7,8}\n",
    "print(set1-set2)#intersection operator"
   ]
  },
  {
   "cell_type": "code",
   "execution_count": 146,
   "id": "0953f59d",
   "metadata": {
    "scrolled": true
   },
   "outputs": [
    {
     "name": "stdout",
     "output_type": "stream",
     "text": [
      "{1, 3, 4}\n"
     ]
    }
   ],
   "source": [
    "set1={1,2,3,4,5}\n",
    "set2={5,6,7,8,2}\n",
    "print(set1-set2)#intersection operator"
   ]
  },
  {
   "cell_type": "code",
   "execution_count": 1,
   "id": "f9e2ebd2",
   "metadata": {},
   "outputs": [
    {
     "name": "stdout",
     "output_type": "stream",
     "text": [
      "{2, 3, 4, 5, 6}\n"
     ]
    }
   ],
   "source": [
    "set1={1,2,3,4,5,6}\n",
    "set2={8,9,1}\n",
    "print(set1-set2)"
   ]
  },
  {
   "cell_type": "code",
   "execution_count": 10,
   "id": "f4114255",
   "metadata": {},
   "outputs": [],
   "source": [
    "kurkur = {1:'areeb',2:'ali',3:'abdul'}"
   ]
  },
  {
   "cell_type": "code",
   "execution_count": 11,
   "id": "02405648",
   "metadata": {},
   "outputs": [
    {
     "data": {
      "text/plain": [
       "'areeb'"
      ]
     },
     "execution_count": 11,
     "metadata": {},
     "output_type": "execute_result"
    }
   ],
   "source": [
    "kurkur[1]"
   ]
  },
  {
   "cell_type": "code",
   "execution_count": 12,
   "id": "dbd8c57d",
   "metadata": {},
   "outputs": [
    {
     "data": {
      "text/plain": [
       "3"
      ]
     },
     "execution_count": 12,
     "metadata": {},
     "output_type": "execute_result"
    }
   ],
   "source": [
    "len(kurkur)"
   ]
  },
  {
   "cell_type": "code",
   "execution_count": 13,
   "id": "313f2c47",
   "metadata": {},
   "outputs": [
    {
     "data": {
      "text/plain": [
       "True"
      ]
     },
     "execution_count": 13,
     "metadata": {},
     "output_type": "execute_result"
    }
   ],
   "source": [
    "any(kurkur)#all returns true or false"
   ]
  },
  {
   "cell_type": "code",
   "execution_count": 14,
   "id": "e829d93e",
   "metadata": {},
   "outputs": [
    {
     "data": {
      "text/plain": [
       "True"
      ]
     },
     "execution_count": 14,
     "metadata": {},
     "output_type": "execute_result"
    }
   ],
   "source": [
    "all(kurkur[1])#all returns true or false"
   ]
  },
  {
   "cell_type": "raw",
   "id": "ce81c639",
   "metadata": {},
   "source": [
    "sorted(kurkur)"
   ]
  },
  {
   "cell_type": "code",
   "execution_count": 15,
   "id": "f6ca1d4f",
   "metadata": {},
   "outputs": [
    {
     "data": {
      "text/plain": [
       "[1, 2, 3]"
      ]
     },
     "execution_count": 15,
     "metadata": {},
     "output_type": "execute_result"
    }
   ],
   "source": [
    "sorted(kurkur)"
   ]
  },
  {
   "cell_type": "code",
   "execution_count": 16,
   "id": "49baec54",
   "metadata": {},
   "outputs": [
    {
     "name": "stdout",
     "output_type": "stream",
     "text": [
      "\f",
      "\n"
     ]
    }
   ],
   "source": [
    "clear(kurkur)"
   ]
  },
  {
   "cell_type": "code",
   "execution_count": 19,
   "id": "65a456a6",
   "metadata": {},
   "outputs": [
    {
     "data": {
      "text/plain": [
       "'areeb'"
      ]
     },
     "execution_count": 19,
     "metadata": {},
     "output_type": "execute_result"
    }
   ],
   "source": [
    "kurkur.pop(1)"
   ]
  },
  {
   "cell_type": "code",
   "execution_count": 22,
   "id": "afa6c61d",
   "metadata": {},
   "outputs": [
    {
     "data": {
      "text/plain": [
       "(3, 'abdul')"
      ]
     },
     "execution_count": 22,
     "metadata": {},
     "output_type": "execute_result"
    }
   ],
   "source": [
    "kurkur.popitem()#takes no argument and also gives key and value"
   ]
  },
  {
   "cell_type": "code",
   "execution_count": 23,
   "id": "517aa1ac",
   "metadata": {},
   "outputs": [
    {
     "data": {
      "text/plain": [
       "{2: 'ali'}"
      ]
     },
     "execution_count": 23,
     "metadata": {},
     "output_type": "execute_result"
    }
   ],
   "source": [
    "kurkur"
   ]
  },
  {
   "cell_type": "code",
   "execution_count": 24,
   "id": "14bfca53",
   "metadata": {},
   "outputs": [],
   "source": [
    "#functions to be tested\n",
    "#item()\n",
    "#update()\n",
    "#values()\n",
    "#update()\n",
    "#item()\n",
    "#keys()\n",
    "#get()"
   ]
  },
  {
   "cell_type": "code",
   "execution_count": 25,
   "id": "7a769bf4",
   "metadata": {},
   "outputs": [],
   "source": [
    "def sum(a,b):\n",
    "    print(a+b)\n",
    "    \n",
    "    "
   ]
  },
  {
   "cell_type": "code",
   "execution_count": 26,
   "id": "6ff79167",
   "metadata": {},
   "outputs": [
    {
     "name": "stdout",
     "output_type": "stream",
     "text": [
      "3\n"
     ]
    }
   ],
   "source": [
    "sum(1,2)"
   ]
  },
  {
   "cell_type": "code",
   "execution_count": 34,
   "id": "7d7d2636",
   "metadata": {},
   "outputs": [],
   "source": [
    "yeye=[-5,-63,1]"
   ]
  },
  {
   "cell_type": "code",
   "execution_count": 41,
   "id": "01d1b42c",
   "metadata": {},
   "outputs": [
    {
     "ename": "SyntaxError",
     "evalue": "invalid syntax (2240338077.py, line 1)",
     "output_type": "error",
     "traceback": [
      "\u001b[1;36m  Cell \u001b[1;32mIn[41], line 1\u001b[1;36m\u001b[0m\n\u001b[1;33m    abs.[yeye]\u001b[0m\n\u001b[1;37m        ^\u001b[0m\n\u001b[1;31mSyntaxError\u001b[0m\u001b[1;31m:\u001b[0m invalid syntax\n"
     ]
    }
   ],
   "source": [
    "abs.[yeye]"
   ]
  },
  {
   "cell_type": "code",
   "execution_count": 37,
   "id": "53820475",
   "metadata": {},
   "outputs": [
    {
     "data": {
      "text/plain": [
       "True"
      ]
     },
     "execution_count": 37,
     "metadata": {},
     "output_type": "execute_result"
    }
   ],
   "source": [
    "all(yeye)"
   ]
  },
  {
   "cell_type": "code",
   "execution_count": 43,
   "id": "e35a8b11",
   "metadata": {},
   "outputs": [
    {
     "data": {
      "text/plain": [
       "True"
      ]
     },
     "execution_count": 43,
     "metadata": {},
     "output_type": "execute_result"
    }
   ],
   "source": [
    "A=[1,2,3,4]\n",
    "all(A)"
   ]
  },
  {
   "cell_type": "code",
   "execution_count": 44,
   "id": "f7ab1bfd",
   "metadata": {},
   "outputs": [
    {
     "data": {
      "text/plain": [
       "'0b1010'"
      ]
     },
     "execution_count": 44,
     "metadata": {},
     "output_type": "execute_result"
    }
   ],
   "source": [
    "x=10\n",
    "bin(x)"
   ]
  },
  {
   "cell_type": "code",
   "execution_count": 46,
   "id": "ad5dc186",
   "metadata": {},
   "outputs": [
    {
     "data": {
      "text/plain": [
       "8"
      ]
     },
     "execution_count": 46,
     "metadata": {},
     "output_type": "execute_result"
    }
   ],
   "source": [
    "eval('x-2')"
   ]
  },
  {
   "cell_type": "code",
   "execution_count": 49,
   "id": "46a9e118",
   "metadata": {},
   "outputs": [
    {
     "data": {
      "text/plain": [
       "64"
      ]
     },
     "execution_count": 49,
     "metadata": {},
     "output_type": "execute_result"
    }
   ],
   "source": [
    "#format()\n",
    "pow(2,6)"
   ]
  },
  {
   "cell_type": "code",
   "execution_count": null,
   "id": "5b5de921",
   "metadata": {},
   "outputs": [],
   "source": []
  },
  {
   "cell_type": "code",
   "execution_count": 2,
   "id": "c5295806",
   "metadata": {},
   "outputs": [
    {
     "name": "stdout",
     "output_type": "stream",
     "text": [
      "\n"
     ]
    }
   ],
   "source": [
    "file_path=\"C:\\\\Users\\DELL\\\\Desktop\\\\DataScience\\\\file1.txt\"\n",
    "with open(file_path,'r') as file:\n",
    "    content=file.read()\n",
    "    print(content)"
   ]
  },
  {
   "cell_type": "code",
   "execution_count": 9,
   "id": "b9141020",
   "metadata": {},
   "outputs": [],
   "source": [
    "file2=open(\"C:\\\\Users\\DELL\\\\Desktop\\\\DataScience\\\\file1.txt\",'w')\n",
    "file2.write(\"I am Ali\")\n",
    "file2.close()"
   ]
  },
  {
   "cell_type": "code",
   "execution_count": 10,
   "id": "d53c3083",
   "metadata": {},
   "outputs": [
    {
     "name": "stdout",
     "output_type": "stream",
     "text": [
      "<_io.TextIOWrapper name='C:\\\\Users\\\\DELL\\\\Desktop\\\\DataScience\\\\file1.txt' mode='w' encoding='cp1252'>\n"
     ]
    }
   ],
   "source": [
    "print(file2)"
   ]
  },
  {
   "cell_type": "code",
   "execution_count": 11,
   "id": "013dfa8f",
   "metadata": {},
   "outputs": [],
   "source": [
    "file2=open(\"C:\\\\Users\\DELL\\\\Desktop\\\\DataScience\\\\file1.txt\",'w')\n",
    "file2.write(\"I am Ali\")\n",
    "file2.close()"
   ]
  },
  {
   "cell_type": "code",
   "execution_count": 13,
   "id": "4c278d62",
   "metadata": {},
   "outputs": [
    {
     "data": {
      "text/plain": [
       "10"
      ]
     },
     "execution_count": 13,
     "metadata": {},
     "output_type": "execute_result"
    }
   ],
   "source": [
    "file2=open(\"C:\\\\Users\\DELL\\\\Desktop\\\\DataScience\\\\file1.txt\",'w')#overwrite\n",
    "file2.write(\"I am Ammar\")\n"
   ]
  },
  {
   "cell_type": "code",
   "execution_count": 14,
   "id": "e0c69185",
   "metadata": {},
   "outputs": [
    {
     "ename": "FileExistsError",
     "evalue": "[Errno 17] File exists: 'C:\\\\Users\\\\DELL\\\\Desktop\\\\DataScience\\\\file1.txt'",
     "output_type": "error",
     "traceback": [
      "\u001b[1;31m---------------------------------------------------------------------------\u001b[0m",
      "\u001b[1;31mFileExistsError\u001b[0m                           Traceback (most recent call last)",
      "Cell \u001b[1;32mIn[14], line 1\u001b[0m\n\u001b[1;32m----> 1\u001b[0m file2\u001b[38;5;241m=\u001b[39m\u001b[38;5;28mopen\u001b[39m(\u001b[38;5;124m\"\u001b[39m\u001b[38;5;124mC:\u001b[39m\u001b[38;5;130;01m\\\\\u001b[39;00m\u001b[38;5;124mUsers\u001b[39m\u001b[38;5;124m\\\u001b[39m\u001b[38;5;124mDELL\u001b[39m\u001b[38;5;130;01m\\\\\u001b[39;00m\u001b[38;5;124mDesktop\u001b[39m\u001b[38;5;130;01m\\\\\u001b[39;00m\u001b[38;5;124mDataScience\u001b[39m\u001b[38;5;130;01m\\\\\u001b[39;00m\u001b[38;5;124mfile1.txt\u001b[39m\u001b[38;5;124m\"\u001b[39m,\u001b[38;5;124m'\u001b[39m\u001b[38;5;124mx\u001b[39m\u001b[38;5;124m'\u001b[39m)\n\u001b[0;32m      2\u001b[0m file2\u001b[38;5;241m.\u001b[39mwrite(\u001b[38;5;124m\"\u001b[39m\u001b[38;5;124mI am Ammar\u001b[39m\u001b[38;5;124m\"\u001b[39m)\n",
      "File \u001b[1;32mC:\\ProgramData\\anaconda3\\Lib\\site-packages\\IPython\\core\\interactiveshell.py:286\u001b[0m, in \u001b[0;36m_modified_open\u001b[1;34m(file, *args, **kwargs)\u001b[0m\n\u001b[0;32m    279\u001b[0m \u001b[38;5;28;01mif\u001b[39;00m file \u001b[38;5;129;01min\u001b[39;00m {\u001b[38;5;241m0\u001b[39m, \u001b[38;5;241m1\u001b[39m, \u001b[38;5;241m2\u001b[39m}:\n\u001b[0;32m    280\u001b[0m     \u001b[38;5;28;01mraise\u001b[39;00m \u001b[38;5;167;01mValueError\u001b[39;00m(\n\u001b[0;32m    281\u001b[0m         \u001b[38;5;124mf\u001b[39m\u001b[38;5;124m\"\u001b[39m\u001b[38;5;124mIPython won\u001b[39m\u001b[38;5;124m'\u001b[39m\u001b[38;5;124mt let you open fd=\u001b[39m\u001b[38;5;132;01m{\u001b[39;00mfile\u001b[38;5;132;01m}\u001b[39;00m\u001b[38;5;124m by default \u001b[39m\u001b[38;5;124m\"\u001b[39m\n\u001b[0;32m    282\u001b[0m         \u001b[38;5;124m\"\u001b[39m\u001b[38;5;124mas it is likely to crash IPython. If you know what you are doing, \u001b[39m\u001b[38;5;124m\"\u001b[39m\n\u001b[0;32m    283\u001b[0m         \u001b[38;5;124m\"\u001b[39m\u001b[38;5;124myou can use builtins\u001b[39m\u001b[38;5;124m'\u001b[39m\u001b[38;5;124m open.\u001b[39m\u001b[38;5;124m\"\u001b[39m\n\u001b[0;32m    284\u001b[0m     )\n\u001b[1;32m--> 286\u001b[0m \u001b[38;5;28;01mreturn\u001b[39;00m io_open(file, \u001b[38;5;241m*\u001b[39margs, \u001b[38;5;241m*\u001b[39m\u001b[38;5;241m*\u001b[39mkwargs)\n",
      "\u001b[1;31mFileExistsError\u001b[0m: [Errno 17] File exists: 'C:\\\\Users\\\\DELL\\\\Desktop\\\\DataScience\\\\file1.txt'"
     ]
    }
   ],
   "source": [
    "file2=open(\"C:\\\\Users\\DELL\\\\Desktop\\\\DataScience\\\\file1.txt\",'x')\n",
    "file2.write(\"I am Ammar\")\n"
   ]
  },
  {
   "cell_type": "code",
   "execution_count": 20,
   "id": "d4ecd274",
   "metadata": {},
   "outputs": [
    {
     "data": {
      "text/plain": [
       "['I am Ammar\\n',\n",
       " 'I am Ammar1\\n',\n",
       " 'I am Ammar2\\n',\n",
       " 'I am Ammar3\\n',\n",
       " 'I am Ammar3\\n',\n",
       " 'I am Ammar4']"
      ]
     },
     "execution_count": 20,
     "metadata": {},
     "output_type": "execute_result"
    }
   ],
   "source": [
    "file2=open(\"C:\\\\Users\\DELL\\\\Desktop\\\\DataScience\\\\file1.txt\",'r')\n",
    "file2.readlines()"
   ]
  },
  {
   "cell_type": "code",
   "execution_count": 1,
   "id": "519dc07b",
   "metadata": {},
   "outputs": [
    {
     "data": {
      "text/plain": [
       "9"
      ]
     },
     "execution_count": 1,
     "metadata": {},
     "output_type": "execute_result"
    }
   ],
   "source": [
    "file2=open(\"C:\\\\Users\\DELL\\\\Desktop\\\\DataScience\\\\file1.txt\",'a')#append mode\n",
    "file2.write(\"\\nPakistan\")"
   ]
  },
  {
   "cell_type": "code",
   "execution_count": 2,
   "id": "d222ab6b",
   "metadata": {},
   "outputs": [],
   "source": [
    "file2.close()\n"
   ]
  },
  {
   "cell_type": "code",
   "execution_count": 3,
   "id": "5c09d76b",
   "metadata": {},
   "outputs": [],
   "source": [
    "import os"
   ]
  },
  {
   "cell_type": "code",
   "execution_count": 4,
   "id": "317d27de",
   "metadata": {},
   "outputs": [],
   "source": [
    "os.rename(\"file1.txt\",\"file3.txt\") # Close all"
   ]
  },
  {
   "cell_type": "code",
   "execution_count": null,
   "id": "de1e2fe3",
   "metadata": {},
   "outputs": [],
   "source": [
    "#makenewdirectory\n",
    "#getdirectory()\n",
    "#"
   ]
  },
  {
   "cell_type": "code",
   "execution_count": 10,
   "id": "27e5c511",
   "metadata": {},
   "outputs": [
    {
     "name": "stdout",
     "output_type": "stream",
     "text": [
      "hammad\n",
      "2649623974\n",
      "42\n"
     ]
    }
   ],
   "source": [
    "class Student:\n",
    "    name=\"hammad\"\n",
    "    age=42\n",
    "    roll=2649623974\n",
    "\n",
    "    \n",
    "std1 = Student()\n",
    "print(std1.name)\n",
    "print(std1.roll)\n",
    "print(std1.age)\n",
    "    "
   ]
  },
  {
   "cell_type": "code",
   "execution_count": 17,
   "id": "470acb18",
   "metadata": {},
   "outputs": [
    {
     "name": "stdout",
     "output_type": "stream",
     "text": [
      "hammad\n",
      "2649623974\n",
      "42\n",
      "111284206908\n"
     ]
    }
   ],
   "source": [
    "class Student:\n",
    "    name=\"hammad\"\n",
    "    age=42\n",
    "    roll=2649623974\n",
    "    \n",
    "    def fees(a):\n",
    "        print(age*roll)\n",
    "    \n",
    "    \n",
    "std1 = Student()\n",
    "std2 = Student()\n",
    "print(std1.name)\n",
    "print(std2.roll)\n",
    "print(std1.age)\n",
    "std1.fees()\n",
    "    "
   ]
  },
  {
   "cell_type": "code",
   "execution_count": null,
   "id": "8e6036eb",
   "metadata": {},
   "outputs": [],
   "source": []
  }
 ],
 "metadata": {
  "kernelspec": {
   "display_name": "Python 3 (ipykernel)",
   "language": "python",
   "name": "python3"
  },
  "language_info": {
   "codemirror_mode": {
    "name": "ipython",
    "version": 3
   },
   "file_extension": ".py",
   "mimetype": "text/x-python",
   "name": "python",
   "nbconvert_exporter": "python",
   "pygments_lexer": "ipython3",
   "version": "3.11.5"
  }
 },
 "nbformat": 4,
 "nbformat_minor": 5
}
